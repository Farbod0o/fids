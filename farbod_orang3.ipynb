{
 "cells": [
  {
   "cell_type": "code",
   "execution_count": 2,
   "metadata": {},
   "outputs": [],
   "source": [
    "import mysql.connector as mysql\n",
    "import plotly.graph_objects as go\n",
    "import pandas as pd"
   ]
  },
  {
   "cell_type": "code",
   "execution_count": 3,
   "id": "b73136d5",
   "metadata": {},
   "outputs": [],
   "source": [
    "conn = mysql.connect(\n",
    "    host = \"localhost\",\n",
    "    user = \"root\",\n",
    "    passwd = \"asddsa\",\n",
    "    database = \"fids_2\"\n",
    ")\n",
    "cursor = conn.cursor()\n",
    "\n",
    "df = pd.read_csv('airports.csv')\n",
    "df = df.where(df[\"iso_country\"]==\"IR\")  \n",
    "df = df.dropna(subset=['id'])\n",
    "idents = df.loc[:,\"ident\"] \n",
    "idents = idents.unique().tolist()\n",
    "arrival = {}\n",
    "departure={}\n",
    "\n",
    "for id in idents:\n",
    "    sql = '''SELECT COUNT(*) FROM fids WHERE destination_icao=\"{}\" AND type_=\"{}\"'''.format(id,\"departure\")\n",
    "    cursor.execute(sql)\n",
    "    recs = cursor.fetchall()\n",
    "    for row in recs:\n",
    "        departure_n = row[0]\n",
    "        departure[id]=departure_n\n",
    "\n",
    "    sql = '''SELECT COUNT(*) FROM fids WHERE destination_icao=\"{}\" AND type_=\"{}\"'''.format(id,\"arrival\")\n",
    "    cursor.execute(sql)\n",
    "    recs = cursor.fetchall()\n",
    "    for row in recs:\n",
    "        arrival_n = row[0]\n",
    "        arrival[id]=arrival_n\n",
    "\n",
    "df = pd.DataFrame(df)\n",
    "arrival = arrival.values()\n",
    "departure=departure.values()\n",
    "df['arrival'] = arrival\n",
    "df['departure'] = departure\n",
    "\n",
    "df.to_csv('out.csv')\n"
   ]
  },
  {
   "cell_type": "code",
   "execution_count": 4,
   "id": "1e3ba796",
   "metadata": {},
   "outputs": [
    {
     "data": {
      "application/vnd.plotly.v1+json": {
       "config": {
        "plotlyServerURL": "https://plot.ly"
       },
       "data": [
        {
         "lat": [
          36.73334122,
          29.0991993,
          29.37579918,
          35.2320893,
          34.07048906,
          32.40275522,
          30.66442947,
          29.90723638,
          30.73145207,
          38.0719986,
          32.58269218,
          30.03582962,
          35.74196675,
          29.23499439,
          31.92180801,
          35.943639,
          28.23698972,
          32.861803,
          26.754639,
          35.38940048,
          37.24610138,
          35.17419815,
          30,
          35.5298996,
          36.85689926,
          29.840099,
          30.37109947,
          32.434399,
          30.7444,
          30.33760071,
          32.00239944,
          30.83519936,
          30.55620003,
          31.33740044,
          25.8757,
          28.94479942,
          27.21269989,
          27.4814,
          27.82049942,
          26.52619934,
          26.53199959,
          29.26666641,
          27.379601,
          29.26029968,
          25.90889931,
          26.81030083,
          35.98770142,
          34.34590149,
          32.93450165,
          34.51666641,
          33.58660126,
          33.4353981,
          35.2458992,
          33.38359833,
          32.92890167,
          32.56700134,
          33.895302,
          32.75080109,
          32.62110138,
          32.29719925,
          32.32740021,
          37.323333,
          34.86920166,
          34.28333282,
          34.13809967,
          35.21160126,
          35.95209885,
          35.360351,
          34.98400116,
          35.70299911,
          35.41609955,
          35.64479828,
          35.68920135,
          36.240101,
          35.77629852,
          35.77610016,
          34.6333313,
          35.591099,
          36.16669846,
          27.21829987,
          29.2342,
          28.7269001,
          30.27440071,
          29.08419991,
          27.1583004,
          26.75460052,
          30.29770088,
          29.55089951,
          32.89810181,
          36.50120163,
          34.34999847,
          35.26670074,
          36.4253006,
          36.23519897,
          37.49300003,
          36.16809845,
          33.6678009,
          37.62789917,
          36.47079849,
          36.711263,
          37.38330078,
          36.90940094,
          36.69440079,
          36.46666718,
          36.65510178,
          34.16916656,
          36.66329956,
          36.90990067,
          36.63579941,
          31.0355,
          28.72159958,
          28.89179993,
          28.58670044,
          27.67469978,
          29.75419998,
          27.37269974,
          29.5392,
          30.70050049,
          38.42750168,
          38.32569885,
          37.34799957,
          39.60359955,
          37.66809845,
          36.218333,
          38.13389969,
          39.330002,
          36.77370071,
          31.58333206,
          31.9048996,
          31.09830093,
          25.44330025,
          29.47570038,
          27.23609924,
          25.653601,
          27.41930008,
          33.0890007
         ],
         "lon": [
          45.15000153,
          51.03530121,
          51.06750107,
          48.61355782,
          46.59709454,
          48.18187237,
          48.64448905,
          50.42784691,
          50.11411428,
          45.72359848,
          52.00221777,
          52.80027151,
          51.22922659,
          53.12855244,
          48.87751713,
          50.082056,
          61.18260384,
          58.424593,
          55.902353,
          53.67139816,
          55.09590149,
          52.32329941,
          53.71149826,
          51.50579834,
          54.20220184,
          50.272701,
          48.22829819,
          48.397598,
          49.6772,
          50.82799912,
          49.270401,
          49.53490067,
          49.15190125,
          48.76200104,
          55.033001,
          50.83459854,
          54.3185997,
          52.615501,
          52.35219955,
          53.98020172,
          54.82479858,
          51.20000076,
          52.737701,
          50.32389832,
          54.53939819,
          53.35630035,
          45.8470993,
          47.15810013,
          47.48339844,
          45.56666565,
          46.40480042,
          48.28290176,
          47.00920105,
          49.69639969,
          51.56110001,
          51.6916008,
          51.577,
          51.86130142,
          51.6969986,
          50.84220123,
          51.37730026,
          49.617778,
          48.55250168,
          48.81666565,
          49.84730148,
          48.65340042,
          50.45080185,
          51.98659,
          50.80619812,
          51.47510147,
          51.15219879,
          51.38069916,
          51.31340027,
          50.0471,
          50.88100052,
          50.8266983,
          50.8833313,
          53.495098,
          54.34389877,
          56.37779999,
          56.606899,
          57.67029953,
          56.9510994,
          58.45000076,
          56.17250061,
          55.90240097,
          56.05110168,
          55.67269897,
          59.26610184,
          61.06489944,
          58.68000031,
          59.21670151,
          55.10419846,
          59.64099884,
          57.30820084,
          57.59519958,
          56.8927002,
          56.17309952,
          52.36330032,
          52.679699,
          55.45199966,
          54.40129852,
          53.54249954,
          52.8666687,
          52.34960175,
          51.31750107,
          51.46469879,
          50.67959976,
          53.1935997,
          52.7866,
          54.44129944,
          53.72330093,
          53.57910156,
          54.38330078,
          52.69430161,
          53.18880081,
          52.589802,
          51.54510117,
          44.97359848,
          48.42440033,
          46.12789917,
          47.88150024,
          45.06869888,
          46.298889,
          46.23500061,
          44.43,
          48.3594017,
          55.56666565,
          54.2765007,
          61.54389954,
          60.38209915,
          60.90620041,
          60.72000122,
          57.799301,
          62.31579971,
          53.41730118
         ],
         "marker": {
          "autocolorscale": false,
          "cmax": 0,
          "cmin": 1272,
          "color": [
           0,
           0,
           0,
           0,
           0,
           0,
           0,
           0,
           0,
           0,
           0,
           0,
           0,
           0,
           0,
           0,
           0,
           0,
           0,
           0,
           0,
           0,
           0,
           0,
           0,
           0,
           61,
           6,
           0,
           4,
           0,
           0,
           4,
           182,
           2,
           52,
           0,
           56,
           0,
           289,
           4,
           0,
           16,
           0,
           0,
           0,
           0,
           32,
           0,
           0,
           31,
           15,
           0,
           0,
           0,
           0,
           0,
           89,
           0,
           9,
           0,
           48,
           0,
           0,
           0,
           0,
           0,
           0,
           0,
           0,
           1,
           0,
           1272,
           0,
           0,
           0,
           0,
           0,
           0,
           163,
           0,
           4,
           132,
           8,
           0,
           22,
           0,
           18,
           13,
           4,
           0,
           0,
           0,
           697,
           6,
           0,
           4,
           0,
           0,
           0,
           0,
           36,
           0,
           0,
           0,
           0,
           4,
           8,
           50,
           0,
           0,
           0,
           0,
           6,
           0,
           2,
           298,
           5,
           4,
           57,
           4,
           5,
           43,
           0,
           195,
           0,
           5,
           0,
           104,
           7,
           45,
           71,
           2,
           3,
           0,
           0
          ],
          "colorbar": {
           "title": {
            "text": "flights<br>1/2/1401-14/2/1401"
           }
          },
          "colorscale": [
           [
            0,
            "rgb(255,245,240)"
           ],
           [
            0.125,
            "rgb(254,224,210)"
           ],
           [
            0.25,
            "rgb(252,187,161)"
           ],
           [
            0.375,
            "rgb(252,146,114)"
           ],
           [
            0.5,
            "rgb(251,106,74)"
           ],
           [
            0.625,
            "rgb(239,59,44)"
           ],
           [
            0.75,
            "rgb(203,24,29)"
           ],
           [
            0.875,
            "rgb(165,15,21)"
           ],
           [
            1,
            "rgb(103,0,13)"
           ]
          ],
          "line": {
           "color": "rgba(102, 102, 102)",
           "width": 1
          },
          "opacity": 0.8,
          "reversescale": true,
          "size": 7,
          "symbol": "square"
         },
         "mode": "markers",
         "text": [
          "Khaneh Airport<br>Arrivals: 0<br>departure: 0",
          "Ahmadi Military Air Field<br>Arrivals: 0<br>departure: 0",
          "Darrahi Military Air Field<br>Arrivals: 0<br>departure: 0",
          "Shahrokhi Highway Strip<br>Arrivals: 0<br>departure: 0",
          "Shahabad Highway Strip<br>Arrivals: 0<br>departure: 0",
          "Andimeshk-Karkhe Dam Highway Strip<br>Arrivals: 0<br>departure: 0",
          "Shadgan Airport<br>Arrivals: 0<br>departure: 0",
          "Gorreh Airport<br>Arrivals: 0<br>departure: 0",
          "Behbehan Northwest Airport<br>Arrivals: 0<br>departure: 0",
          "Vayqan Air Base<br>Arrivals: 0<br>departure: 0",
          "Esfahan East Airport<br>Arrivals: 0<br>departure: 0",
          "Mansurabad North Airport<br>Arrivals: 0<br>departure: 0",
          "Tehran West Airport<br>Arrivals: 0<br>departure: 0",
          "Sarvestan Airport<br>Arrivals: 0<br>departure: 0",
          "Ella North Airport<br>Arrivals: 0<br>departure: 0",
          "Khar Rud Airport<br>Arrivals: 0<br>departure: 0",
          "Khāsh Airport<br>Arrivals: 0<br>departure: 0",
          "Khour Airport<br>Arrivals: 0<br>departure: 0",
          "Qeshm International Airport<br>Arrivals: 0<br>departure: 0",
          "Semnan New Airport<br>Arrivals: 0<br>departure: 0",
          "Gonbad Ghabus Airport<br>Arrivals: 0<br>departure: 0",
          "Garmcar Sw Airport<br>Arrivals: 0<br>departure: 0",
          "Mahmudabad Airport<br>Arrivals: 0<br>departure: 0",
          "Firuzabad Airport<br>Arrivals: 0<br>departure: 0",
          "Mehtar Kalateh Airport<br>Arrivals: 0<br>departure: 0",
          "Bahregan Airport<br>Arrivals: 0<br>departure: 0",
          "Abadan Airport<br>Arrivals: 63<br>departure: 61",
          "Dezful Airport<br>Arrivals: 0<br>departure: 6",
          "Aghajari Airport<br>Arrivals: 0<br>departure: 0",
          "Gachsaran Airport<br>Arrivals: 0<br>departure: 4",
          "Shahid Asyaee Airport<br>Arrivals: 0<br>departure: 0",
          "Omidiyeh Airport<br>Arrivals: 0<br>departure: 0",
          "Mahshahr Airport<br>Arrivals: 0<br>departure: 4",
          "Ahwaz Airport<br>Arrivals: 174<br>departure: 182",
          "Abu Musa Island Airport<br>Arrivals: 0<br>departure: 2",
          "Bushehr Airport<br>Arrivals: 57<br>departure: 52",
          "Bastak Airport<br>Arrivals: 0<br>departure: 0",
          "Asaloyeh Airport<br>Arrivals: 0<br>departure: 56",
          "Jam Airport<br>Arrivals: 0<br>departure: 0",
          "Kish International Airport<br>Arrivals: 0<br>departure: 289",
          "Bandar Lengeh Airport<br>Arrivals: 0<br>departure: 4",
          "Borazjan Airport<br>Arrivals: 0<br>departure: 0",
          "Persian Gulf International Airport<br>Arrivals: 0<br>departure: 16",
          "Khark Island Airport<br>Arrivals: 0<br>departure: 0",
          "Sirri Island Airport<br>Arrivals: 0<br>departure: 0",
          "Lavan Island Airport<br>Arrivals: 0<br>departure: 0",
          "Baneh Airport<br>Arrivals: 0<br>departure: 0",
          "Shahid Ashrafi Esfahani Airport<br>Arrivals: 20<br>departure: 32",
          "Abdanan Airport<br>Arrivals: 0<br>departure: 0",
          "Ghasre-Shirin Airport<br>Arrivals: 0<br>departure: 0",
          "Ilam Airport<br>Arrivals: 33<br>departure: 31",
          "Khoram Abad Airport<br>Arrivals: 16<br>departure: 15",
          "Sanandaj Airport<br>Arrivals: 0<br>departure: 0",
          "Aligoodarz Airport<br>Arrivals: 0<br>departure: 0",
          "Hesa Airport<br>Arrivals: 0<br>departure: 0",
          "Shahid Vatan Pour Air Base<br>Arrivals: 0<br>departure: 0",
          "Kashan Airport<br>Arrivals: 0<br>departure: 0",
          "Esfahan Shahid Beheshti International Airport<br>Arrivals: 121<br>departure: 89",
          "Badr Air Base<br>Arrivals: 0<br>departure: 0",
          "Shahrekord Airport<br>Arrivals: 10<br>departure: 9",
          "Zarrinshahr Airport<br>Arrivals: 0<br>departure: 0",
          "Sardar-e-Jangal Airport<br>Arrivals: 56<br>departure: 48",
          "Hamadan Airport<br>Arrivals: 0<br>departure: 0",
          "Malayer Airport<br>Arrivals: 0<br>departure: 0",
          "Arak Airport<br>Arrivals: 0<br>departure: 0",
          "Hamadan Air Base<br>Arrivals: 0<br>departure: 0",
          "Ghazvin Azadi Airport<br>Arrivals: 0<br>departure: 0",
          "Eyvanekey Airport<br>Arrivals: 0<br>departure: 0",
          "Kushke Nosrat Airport<br>Arrivals: 0<br>departure: 0",
          "Doshan Tappeh Air Base<br>Arrivals: 0<br>departure: 0",
          "Imam Khomeini International Airport<br>Arrivals: 0<br>departure: 1",
          "Ghale Morghi Airport<br>Arrivals: 0<br>departure: 0",
          "Mehrabad International Airport<br>Arrivals: 1886<br>departure: 1272",
          "Qazvin Airport<br>Arrivals: 0<br>departure: 0",
          "Naja Airport<br>Arrivals: 0<br>departure: 0",
          "Payam International Airport<br>Arrivals: 0<br>departure: 0",
          "Ghom Airport<br>Arrivals: 0<br>departure: 0",
          "Semnan Municipal Airport<br>Arrivals: 0<br>departure: 0",
          "Damghan Airport<br>Arrivals: 0<br>departure: 0",
          "Bandar Abbas International Airport<br>Arrivals: 136<br>departure: 163",
          "Baft Airport<br>Arrivals: 0<br>departure: 0",
          "Jiroft Airport<br>Arrivals: 0<br>departure: 4",
          "Kerman Airport<br>Arrivals: 136<br>departure: 132",
          "Bam Airport<br>Arrivals: 0<br>departure: 8",
          "Havadarya Airport<br>Arrivals: 0<br>departure: 0",
          "Dayrestan Airport<br>Arrivals: 0<br>departure: 22",
          "Rafsanjan Airport<br>Arrivals: 0<br>departure: 0",
          "Sirjan Airport<br>Arrivals: 0<br>departure: 18",
          "Birjand Airport<br>Arrivals: 13<br>departure: 13",
          "Sarakhs Airport<br>Arrivals: 0<br>departure: 4",
          "Gonabad Airport<br>Arrivals: 0<br>departure: 0",
          "Torbat-e Heydarieh Airport<br>Arrivals: 0<br>departure: 0",
          "Shahroud Airport<br>Arrivals: 0<br>departure: 0",
          "Mashhad International Airport<br>Arrivals: 759<br>departure: 697",
          "Bojnord Airport<br>Arrivals: 6<br>departure: 6",
          "Sabzevar National Airport<br>Arrivals: 0<br>departure: 0",
          "Tabas Airport<br>Arrivals: 0<br>departure: 4",
          "Soga Airport<br>Arrivals: 0<br>departure: 0",
          "Amol Airport<br>Arrivals: 0<br>departure: 0",
          "Babolsar Airport<br>Arrivals: 0<br>departure: 0",
          "Kalaleh Airport<br>Arrivals: 0<br>departure: 0",
          "Gorgan Airport<br>Arrivals: 29<br>departure: 36",
          "Behshahr Airport<br>Arrivals: 0<br>departure: 0",
          "Ghaem Shahr Airport<br>Arrivals: 0<br>departure: 0",
          "Bishe Kola Air Base<br>Arrivals: 0<br>departure: 0",
          "Mahmood Abad Airport<br>Arrivals: 0<br>departure: 0",
          "Noshahr Airport<br>Arrivals: 3<br>departure: 4",
          "Ramsar Airport<br>Arrivals: 0<br>departure: 8",
          "Dasht-e Naz Airport<br>Arrivals: 58<br>departure: 50",
          "North of Fars Airport<br>Arrivals: 0<br>departure: 0",
          "Darab Airport<br>Arrivals: 0<br>departure: 0",
          "Fasa Airport<br>Arrivals: 0<br>departure: 0",
          "Jahrom Airport<br>Arrivals: 0<br>departure: 0",
          "Lar Airport<br>Arrivals: 0<br>departure: 6",
          "Zargan Airport<br>Arrivals: 0<br>departure: 0",
          "Lamerd Airport<br>Arrivals: 0<br>departure: 2",
          "Shiraz Shahid Dastghaib International Airport<br>Arrivals: 260<br>departure: 298",
          "Yasouj Airport<br>Arrivals: 0<br>departure: 5",
          "Khoy Airport<br>Arrivals: 0<br>departure: 4",
          "Ardabil Airport<br>Arrivals: 55<br>departure: 57",
          "Sahand Airport<br>Arrivals: 0<br>departure: 4",
          "Parsabade Moghan Airport<br>Arrivals: 5<br>departure: 5",
          "Urmia Airport<br>Arrivals: 43<br>departure: 43",
          "Saghez Airport<br>Arrivals: 0<br>departure: 0",
          "Tabriz International Airport<br>Arrivals: 208<br>departure: 195",
          "Maku National Airport<br>Arrivals: 0<br>departure: 0",
          "Zanjan Airport<br>Arrivals: 5<br>departure: 5",
          "Bafgh Airport<br>Arrivals: 0<br>departure: 0",
          "Shahid Sadooghi Airport<br>Arrivals: 112<br>departure: 104",
          "Zabol Airport<br>Arrivals: 0<br>departure: 7",
          "Konarak Airport<br>Arrivals: 0<br>departure: 45",
          "Zahedan International Airport<br>Arrivals: 73<br>departure: 71",
          "Iran Shahr Airport<br>Arrivals: 0<br>departure: 2",
          "Jask Airport<br>Arrivals: 0<br>departure: 3",
          "Saravan Airport<br>Arrivals: 0<br>departure: 0",
          "Nain Military Airport<br>Arrivals: 0<br>departure: 0"
         ],
         "type": "scattergeo"
        }
       ],
       "layout": {
        "geo": {
         "landcolor": "rgb(217, 217, 217)",
         "lataxis": {
          "range": [
           24,
           42
          ]
         },
         "lonaxis": {
          "range": [
           43,
           64
          ]
         },
         "resolution": 50,
         "scope": "asia"
        },
        "template": {
         "data": {
          "bar": [
           {
            "error_x": {
             "color": "#2a3f5f"
            },
            "error_y": {
             "color": "#2a3f5f"
            },
            "marker": {
             "line": {
              "color": "#E5ECF6",
              "width": 0.5
             },
             "pattern": {
              "fillmode": "overlay",
              "size": 10,
              "solidity": 0.2
             }
            },
            "type": "bar"
           }
          ],
          "barpolar": [
           {
            "marker": {
             "line": {
              "color": "#E5ECF6",
              "width": 0.5
             },
             "pattern": {
              "fillmode": "overlay",
              "size": 10,
              "solidity": 0.2
             }
            },
            "type": "barpolar"
           }
          ],
          "carpet": [
           {
            "aaxis": {
             "endlinecolor": "#2a3f5f",
             "gridcolor": "white",
             "linecolor": "white",
             "minorgridcolor": "white",
             "startlinecolor": "#2a3f5f"
            },
            "baxis": {
             "endlinecolor": "#2a3f5f",
             "gridcolor": "white",
             "linecolor": "white",
             "minorgridcolor": "white",
             "startlinecolor": "#2a3f5f"
            },
            "type": "carpet"
           }
          ],
          "choropleth": [
           {
            "colorbar": {
             "outlinewidth": 0,
             "ticks": ""
            },
            "type": "choropleth"
           }
          ],
          "contour": [
           {
            "colorbar": {
             "outlinewidth": 0,
             "ticks": ""
            },
            "colorscale": [
             [
              0,
              "#0d0887"
             ],
             [
              0.1111111111111111,
              "#46039f"
             ],
             [
              0.2222222222222222,
              "#7201a8"
             ],
             [
              0.3333333333333333,
              "#9c179e"
             ],
             [
              0.4444444444444444,
              "#bd3786"
             ],
             [
              0.5555555555555556,
              "#d8576b"
             ],
             [
              0.6666666666666666,
              "#ed7953"
             ],
             [
              0.7777777777777778,
              "#fb9f3a"
             ],
             [
              0.8888888888888888,
              "#fdca26"
             ],
             [
              1,
              "#f0f921"
             ]
            ],
            "type": "contour"
           }
          ],
          "contourcarpet": [
           {
            "colorbar": {
             "outlinewidth": 0,
             "ticks": ""
            },
            "type": "contourcarpet"
           }
          ],
          "heatmap": [
           {
            "colorbar": {
             "outlinewidth": 0,
             "ticks": ""
            },
            "colorscale": [
             [
              0,
              "#0d0887"
             ],
             [
              0.1111111111111111,
              "#46039f"
             ],
             [
              0.2222222222222222,
              "#7201a8"
             ],
             [
              0.3333333333333333,
              "#9c179e"
             ],
             [
              0.4444444444444444,
              "#bd3786"
             ],
             [
              0.5555555555555556,
              "#d8576b"
             ],
             [
              0.6666666666666666,
              "#ed7953"
             ],
             [
              0.7777777777777778,
              "#fb9f3a"
             ],
             [
              0.8888888888888888,
              "#fdca26"
             ],
             [
              1,
              "#f0f921"
             ]
            ],
            "type": "heatmap"
           }
          ],
          "heatmapgl": [
           {
            "colorbar": {
             "outlinewidth": 0,
             "ticks": ""
            },
            "colorscale": [
             [
              0,
              "#0d0887"
             ],
             [
              0.1111111111111111,
              "#46039f"
             ],
             [
              0.2222222222222222,
              "#7201a8"
             ],
             [
              0.3333333333333333,
              "#9c179e"
             ],
             [
              0.4444444444444444,
              "#bd3786"
             ],
             [
              0.5555555555555556,
              "#d8576b"
             ],
             [
              0.6666666666666666,
              "#ed7953"
             ],
             [
              0.7777777777777778,
              "#fb9f3a"
             ],
             [
              0.8888888888888888,
              "#fdca26"
             ],
             [
              1,
              "#f0f921"
             ]
            ],
            "type": "heatmapgl"
           }
          ],
          "histogram": [
           {
            "marker": {
             "pattern": {
              "fillmode": "overlay",
              "size": 10,
              "solidity": 0.2
             }
            },
            "type": "histogram"
           }
          ],
          "histogram2d": [
           {
            "colorbar": {
             "outlinewidth": 0,
             "ticks": ""
            },
            "colorscale": [
             [
              0,
              "#0d0887"
             ],
             [
              0.1111111111111111,
              "#46039f"
             ],
             [
              0.2222222222222222,
              "#7201a8"
             ],
             [
              0.3333333333333333,
              "#9c179e"
             ],
             [
              0.4444444444444444,
              "#bd3786"
             ],
             [
              0.5555555555555556,
              "#d8576b"
             ],
             [
              0.6666666666666666,
              "#ed7953"
             ],
             [
              0.7777777777777778,
              "#fb9f3a"
             ],
             [
              0.8888888888888888,
              "#fdca26"
             ],
             [
              1,
              "#f0f921"
             ]
            ],
            "type": "histogram2d"
           }
          ],
          "histogram2dcontour": [
           {
            "colorbar": {
             "outlinewidth": 0,
             "ticks": ""
            },
            "colorscale": [
             [
              0,
              "#0d0887"
             ],
             [
              0.1111111111111111,
              "#46039f"
             ],
             [
              0.2222222222222222,
              "#7201a8"
             ],
             [
              0.3333333333333333,
              "#9c179e"
             ],
             [
              0.4444444444444444,
              "#bd3786"
             ],
             [
              0.5555555555555556,
              "#d8576b"
             ],
             [
              0.6666666666666666,
              "#ed7953"
             ],
             [
              0.7777777777777778,
              "#fb9f3a"
             ],
             [
              0.8888888888888888,
              "#fdca26"
             ],
             [
              1,
              "#f0f921"
             ]
            ],
            "type": "histogram2dcontour"
           }
          ],
          "mesh3d": [
           {
            "colorbar": {
             "outlinewidth": 0,
             "ticks": ""
            },
            "type": "mesh3d"
           }
          ],
          "parcoords": [
           {
            "line": {
             "colorbar": {
              "outlinewidth": 0,
              "ticks": ""
             }
            },
            "type": "parcoords"
           }
          ],
          "pie": [
           {
            "automargin": true,
            "type": "pie"
           }
          ],
          "scatter": [
           {
            "fillpattern": {
             "fillmode": "overlay",
             "size": 10,
             "solidity": 0.2
            },
            "type": "scatter"
           }
          ],
          "scatter3d": [
           {
            "line": {
             "colorbar": {
              "outlinewidth": 0,
              "ticks": ""
             }
            },
            "marker": {
             "colorbar": {
              "outlinewidth": 0,
              "ticks": ""
             }
            },
            "type": "scatter3d"
           }
          ],
          "scattercarpet": [
           {
            "marker": {
             "colorbar": {
              "outlinewidth": 0,
              "ticks": ""
             }
            },
            "type": "scattercarpet"
           }
          ],
          "scattergeo": [
           {
            "marker": {
             "colorbar": {
              "outlinewidth": 0,
              "ticks": ""
             }
            },
            "type": "scattergeo"
           }
          ],
          "scattergl": [
           {
            "marker": {
             "colorbar": {
              "outlinewidth": 0,
              "ticks": ""
             }
            },
            "type": "scattergl"
           }
          ],
          "scattermapbox": [
           {
            "marker": {
             "colorbar": {
              "outlinewidth": 0,
              "ticks": ""
             }
            },
            "type": "scattermapbox"
           }
          ],
          "scatterpolar": [
           {
            "marker": {
             "colorbar": {
              "outlinewidth": 0,
              "ticks": ""
             }
            },
            "type": "scatterpolar"
           }
          ],
          "scatterpolargl": [
           {
            "marker": {
             "colorbar": {
              "outlinewidth": 0,
              "ticks": ""
             }
            },
            "type": "scatterpolargl"
           }
          ],
          "scatterternary": [
           {
            "marker": {
             "colorbar": {
              "outlinewidth": 0,
              "ticks": ""
             }
            },
            "type": "scatterternary"
           }
          ],
          "surface": [
           {
            "colorbar": {
             "outlinewidth": 0,
             "ticks": ""
            },
            "colorscale": [
             [
              0,
              "#0d0887"
             ],
             [
              0.1111111111111111,
              "#46039f"
             ],
             [
              0.2222222222222222,
              "#7201a8"
             ],
             [
              0.3333333333333333,
              "#9c179e"
             ],
             [
              0.4444444444444444,
              "#bd3786"
             ],
             [
              0.5555555555555556,
              "#d8576b"
             ],
             [
              0.6666666666666666,
              "#ed7953"
             ],
             [
              0.7777777777777778,
              "#fb9f3a"
             ],
             [
              0.8888888888888888,
              "#fdca26"
             ],
             [
              1,
              "#f0f921"
             ]
            ],
            "type": "surface"
           }
          ],
          "table": [
           {
            "cells": {
             "fill": {
              "color": "#EBF0F8"
             },
             "line": {
              "color": "white"
             }
            },
            "header": {
             "fill": {
              "color": "#C8D4E3"
             },
             "line": {
              "color": "white"
             }
            },
            "type": "table"
           }
          ]
         },
         "layout": {
          "annotationdefaults": {
           "arrowcolor": "#2a3f5f",
           "arrowhead": 0,
           "arrowwidth": 1
          },
          "autotypenumbers": "strict",
          "coloraxis": {
           "colorbar": {
            "outlinewidth": 0,
            "ticks": ""
           }
          },
          "colorscale": {
           "diverging": [
            [
             0,
             "#8e0152"
            ],
            [
             0.1,
             "#c51b7d"
            ],
            [
             0.2,
             "#de77ae"
            ],
            [
             0.3,
             "#f1b6da"
            ],
            [
             0.4,
             "#fde0ef"
            ],
            [
             0.5,
             "#f7f7f7"
            ],
            [
             0.6,
             "#e6f5d0"
            ],
            [
             0.7,
             "#b8e186"
            ],
            [
             0.8,
             "#7fbc41"
            ],
            [
             0.9,
             "#4d9221"
            ],
            [
             1,
             "#276419"
            ]
           ],
           "sequential": [
            [
             0,
             "#0d0887"
            ],
            [
             0.1111111111111111,
             "#46039f"
            ],
            [
             0.2222222222222222,
             "#7201a8"
            ],
            [
             0.3333333333333333,
             "#9c179e"
            ],
            [
             0.4444444444444444,
             "#bd3786"
            ],
            [
             0.5555555555555556,
             "#d8576b"
            ],
            [
             0.6666666666666666,
             "#ed7953"
            ],
            [
             0.7777777777777778,
             "#fb9f3a"
            ],
            [
             0.8888888888888888,
             "#fdca26"
            ],
            [
             1,
             "#f0f921"
            ]
           ],
           "sequentialminus": [
            [
             0,
             "#0d0887"
            ],
            [
             0.1111111111111111,
             "#46039f"
            ],
            [
             0.2222222222222222,
             "#7201a8"
            ],
            [
             0.3333333333333333,
             "#9c179e"
            ],
            [
             0.4444444444444444,
             "#bd3786"
            ],
            [
             0.5555555555555556,
             "#d8576b"
            ],
            [
             0.6666666666666666,
             "#ed7953"
            ],
            [
             0.7777777777777778,
             "#fb9f3a"
            ],
            [
             0.8888888888888888,
             "#fdca26"
            ],
            [
             1,
             "#f0f921"
            ]
           ]
          },
          "colorway": [
           "#636efa",
           "#EF553B",
           "#00cc96",
           "#ab63fa",
           "#FFA15A",
           "#19d3f3",
           "#FF6692",
           "#B6E880",
           "#FF97FF",
           "#FECB52"
          ],
          "font": {
           "color": "#2a3f5f"
          },
          "geo": {
           "bgcolor": "white",
           "lakecolor": "white",
           "landcolor": "#E5ECF6",
           "showlakes": true,
           "showland": true,
           "subunitcolor": "white"
          },
          "hoverlabel": {
           "align": "left"
          },
          "hovermode": "closest",
          "mapbox": {
           "style": "light"
          },
          "paper_bgcolor": "white",
          "plot_bgcolor": "#E5ECF6",
          "polar": {
           "angularaxis": {
            "gridcolor": "white",
            "linecolor": "white",
            "ticks": ""
           },
           "bgcolor": "#E5ECF6",
           "radialaxis": {
            "gridcolor": "white",
            "linecolor": "white",
            "ticks": ""
           }
          },
          "scene": {
           "xaxis": {
            "backgroundcolor": "#E5ECF6",
            "gridcolor": "white",
            "gridwidth": 2,
            "linecolor": "white",
            "showbackground": true,
            "ticks": "",
            "zerolinecolor": "white"
           },
           "yaxis": {
            "backgroundcolor": "#E5ECF6",
            "gridcolor": "white",
            "gridwidth": 2,
            "linecolor": "white",
            "showbackground": true,
            "ticks": "",
            "zerolinecolor": "white"
           },
           "zaxis": {
            "backgroundcolor": "#E5ECF6",
            "gridcolor": "white",
            "gridwidth": 2,
            "linecolor": "white",
            "showbackground": true,
            "ticks": "",
            "zerolinecolor": "white"
           }
          },
          "shapedefaults": {
           "line": {
            "color": "#2a3f5f"
           }
          },
          "ternary": {
           "aaxis": {
            "gridcolor": "white",
            "linecolor": "white",
            "ticks": ""
           },
           "baxis": {
            "gridcolor": "white",
            "linecolor": "white",
            "ticks": ""
           },
           "bgcolor": "#E5ECF6",
           "caxis": {
            "gridcolor": "white",
            "linecolor": "white",
            "ticks": ""
           }
          },
          "title": {
           "x": 0.05
          },
          "xaxis": {
           "automargin": true,
           "gridcolor": "white",
           "linecolor": "white",
           "ticks": "",
           "title": {
            "standoff": 15
           },
           "zerolinecolor": "white",
           "zerolinewidth": 2
          },
          "yaxis": {
           "automargin": true,
           "gridcolor": "white",
           "linecolor": "white",
           "ticks": "",
           "title": {
            "standoff": 15
           },
           "zerolinecolor": "white",
           "zerolinewidth": 2
          }
         }
        },
        "title": {
         "text": "Most trafficked Iran airports"
        }
       }
      }
     },
     "metadata": {},
     "output_type": "display_data"
    }
   ],
   "source": [
    "df = pd.read_csv('out.csv')\n",
    "df['text'] = df['name'] + '<br>' + 'Arrivals: ' + df['arrival'].astype(str)+ '<br>' + 'departure: ' + df['departure'].astype(str)\n",
    "\n",
    "fig = go.Figure(data=go.Scattergeo(\n",
    "        lon = df['longitude_deg'],\n",
    "        lat = df['latitude_deg'],\n",
    "        text = df['text'],\n",
    "        mode = 'markers',\n",
    "        marker = dict(\n",
    "            size = 7,\n",
    "            opacity = 0.8,\n",
    "            reversescale = True,\n",
    "            autocolorscale = False,\n",
    "            symbol = 'square',\n",
    "            line = dict(\n",
    "                width=1,\n",
    "                color='rgba(102, 102, 102)'\n",
    "            ),\n",
    "            colorscale = 'Reds',\n",
    "            cmin = df['departure'].max(),\n",
    "            color = df['departure'],\n",
    "            cmax = 0,\n",
    "            colorbar_title=\"flights<br>1/2/1401-14/2/1401\"\n",
    "        )))\n",
    "\n",
    "\n",
    "fig.update_layout(\n",
    "        title = 'Most trafficked Iran airports',\n",
    "        geo = dict(\n",
    "            scope = 'asia',\n",
    "            resolution = 50,\n",
    "            lonaxis_range= [43, 64],\n",
    "            lataxis_range= [24, 42],\n",
    "            landcolor = 'rgb(217, 217, 217)',\n",
    "        )\n",
    "    )\n",
    "    \n",
    "fig.show()"
   ]
  }
 ],
 "metadata": {
  "kernelspec": {
   "display_name": "Python 3",
   "language": "python",
   "name": "python3"
  },
  "language_info": {
   "codemirror_mode": {
    "name": "ipython",
    "version": 3
   },
   "file_extension": ".py",
   "mimetype": "text/x-python",
   "name": "python",
   "nbconvert_exporter": "python",
   "pygments_lexer": "ipython3",
   "version": "3.11.2"
  }
 },
 "nbformat": 4,
 "nbformat_minor": 5
}
